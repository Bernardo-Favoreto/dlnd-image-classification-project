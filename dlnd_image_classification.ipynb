{
 "cells": [
  {
   "cell_type": "markdown",
   "metadata": {
    "collapsed": true
   },
   "source": [
    "# Image Classification\n",
    "In this project, you'll classify images from the [CIFAR-10 dataset](https://www.cs.toronto.edu/~kriz/cifar.html).  The dataset consists of airplanes, dogs, cats, and other objects. You'll preprocess the images, then train a convolutional neural network on all the samples. The images need to be normalized and the labels need to be one-hot encoded.  You'll get to apply what you learned and build a convolutional, max pooling, dropout, and fully connected layers.  At the end, you'll get to see your neural network's predictions on the sample images.\n",
    "## Get the Data\n",
    "Run the following cell to download the [CIFAR-10 dataset for python](https://www.cs.toronto.edu/~kriz/cifar-10-python.tar.gz)."
   ]
  },
  {
   "cell_type": "code",
   "execution_count": 1,
   "metadata": {},
   "outputs": [
    {
     "ename": "ModuleNotFoundError",
     "evalue": "No module named 'tensorflow'",
     "output_type": "error",
     "traceback": [
      "\u001b[0;31m---------------------------------------------------------------------------\u001b[0m",
      "\u001b[0;31mModuleNotFoundError\u001b[0m                       Traceback (most recent call last)",
      "\u001b[0;32m<ipython-input-1-85cf718742d4>\u001b[0m in \u001b[0;36m<module>\u001b[0;34m()\u001b[0m\n\u001b[1;32m      5\u001b[0m \u001b[0;32mfrom\u001b[0m \u001b[0mos\u001b[0m\u001b[0;34m.\u001b[0m\u001b[0mpath\u001b[0m \u001b[0;32mimport\u001b[0m \u001b[0misfile\u001b[0m\u001b[0;34m,\u001b[0m \u001b[0misdir\u001b[0m\u001b[0;34m\u001b[0m\u001b[0m\n\u001b[1;32m      6\u001b[0m \u001b[0;32mfrom\u001b[0m \u001b[0mtqdm\u001b[0m \u001b[0;32mimport\u001b[0m \u001b[0mtqdm\u001b[0m\u001b[0;34m\u001b[0m\u001b[0m\n\u001b[0;32m----> 7\u001b[0;31m \u001b[0;32mimport\u001b[0m \u001b[0mproblem_unittests\u001b[0m \u001b[0;32mas\u001b[0m \u001b[0mtests\u001b[0m\u001b[0;34m\u001b[0m\u001b[0m\n\u001b[0m\u001b[1;32m      8\u001b[0m \u001b[0;32mimport\u001b[0m \u001b[0mtarfile\u001b[0m\u001b[0;34m\u001b[0m\u001b[0m\n\u001b[1;32m      9\u001b[0m \u001b[0;34m\u001b[0m\u001b[0m\n",
      "\u001b[0;32m~/Documents/Educational/Udacity/Deep Learning Foundations/Contents/3_Convolutional_Neural_Networks/Project/image-classification/problem_unittests.py\u001b[0m in \u001b[0;36m<module>\u001b[0;34m()\u001b[0m\n\u001b[1;32m      1\u001b[0m \u001b[0;32mimport\u001b[0m \u001b[0mos\u001b[0m\u001b[0;34m\u001b[0m\u001b[0m\n\u001b[1;32m      2\u001b[0m \u001b[0;32mimport\u001b[0m \u001b[0mnumpy\u001b[0m \u001b[0;32mas\u001b[0m \u001b[0mnp\u001b[0m\u001b[0;34m\u001b[0m\u001b[0m\n\u001b[0;32m----> 3\u001b[0;31m \u001b[0;32mimport\u001b[0m \u001b[0mtensorflow\u001b[0m \u001b[0;32mas\u001b[0m \u001b[0mtf\u001b[0m\u001b[0;34m\u001b[0m\u001b[0m\n\u001b[0m\u001b[1;32m      4\u001b[0m \u001b[0;32mimport\u001b[0m \u001b[0mrandom\u001b[0m\u001b[0;34m\u001b[0m\u001b[0m\n\u001b[1;32m      5\u001b[0m \u001b[0;32mfrom\u001b[0m \u001b[0munittest\u001b[0m\u001b[0;34m.\u001b[0m\u001b[0mmock\u001b[0m \u001b[0;32mimport\u001b[0m \u001b[0mMagicMock\u001b[0m\u001b[0;34m\u001b[0m\u001b[0m\n",
      "\u001b[0;31mModuleNotFoundError\u001b[0m: No module named 'tensorflow'"
     ]
    }
   ],
   "source": [
    "\"\"\"\n",
    "DON'T MODIFY ANYTHING IN THIS CELL THAT IS BELOW THIS LINE\n",
    "\"\"\"\n",
    "from urllib.request import urlretrieve\n",
    "from os.path import isfile, isdir\n",
    "from tqdm import tqdm\n",
    "import problem_unittests as tests\n",
    "import tarfile\n",
    "\n",
    "cifar10_dataset_folder_path = 'cifar-10-batches-py'\n",
    "\n",
    "# Use Floyd's cifar-10 dataset if present\n",
    "floyd_cifar10_location = '/cifar/cifar-10-python.tar.gz'\n",
    "if isfile(floyd_cifar10_location):\n",
    "    tar_gz_path = floyd_cifar10_location\n",
    "else:\n",
    "    tar_gz_path = 'cifar-10-python.tar.gz'\n",
    "\n",
    "class DLProgress(tqdm):\n",
    "    last_block = 0\n",
    "\n",
    "    def hook(self, block_num=1, block_size=1, total_size=None):\n",
    "        self.total = total_size\n",
    "        self.update((block_num - self.last_block) * block_size)\n",
    "        self.last_block = block_num\n",
    "\n",
    "if not isfile(tar_gz_path):\n",
    "    with DLProgress(unit='B', unit_scale=True, miniters=1, desc='CIFAR-10 Dataset') as pbar:\n",
    "        urlretrieve(\n",
    "            'https://www.cs.toronto.edu/~kriz/cifar-10-python.tar.gz',\n",
    "            tar_gz_path,\n",
    "            pbar.hook)\n",
    "\n",
    "if not isdir(cifar10_dataset_folder_path):\n",
    "    with tarfile.open(tar_gz_path) as tar:\n",
    "        tar.extractall()\n",
    "        tar.close()\n",
    "\n",
    "\n",
    "tests.test_folder_path(cifar10_dataset_folder_path)"
   ]
  },
  {
   "cell_type": "markdown",
   "metadata": {},
   "source": [
    "## Explore the Data\n",
    "The dataset is broken into batches to prevent your machine from running out of memory.  The CIFAR-10 dataset consists of 5 batches, named `data_batch_1`, `data_batch_2`, etc.. Each batch contains the labels and images that are one of the following:\n",
    "* airplane\n",
    "* automobile\n",
    "* bird\n",
    "* cat\n",
    "* deer\n",
    "* dog\n",
    "* frog\n",
    "* horse\n",
    "* ship\n",
    "* truck\n",
    "\n",
    "Understanding a dataset is part of making predictions on the data.  Play around with the code cell below by changing the `batch_id` and `sample_id`. The `batch_id` is the id for a batch (1-5). The `sample_id` is the id for a image and label pair in the batch.\n",
    "\n",
    "Ask yourself \"What are all possible labels?\", \"What is the range of values for the image data?\", \"Are the labels in order or random?\".  Answers to questions like these will help you preprocess the data and end up with better predictions."
   ]
  },
  {
   "cell_type": "code",
   "execution_count": 3,
   "metadata": {},
   "outputs": [
    {
     "name": "stdout",
     "output_type": "stream",
     "text": [
      "\n",
      "Stats of batch 3:\n",
      "Samples: 10000\n",
      "Label Counts: {0: 994, 1: 1042, 2: 965, 3: 997, 4: 990, 5: 1029, 6: 978, 7: 1015, 8: 961, 9: 1029}\n",
      "First 20 Labels: [8, 5, 0, 6, 9, 2, 8, 3, 6, 2, 7, 4, 6, 9, 0, 0, 7, 3, 7, 2]\n",
      "\n",
      "Example of Image 1562:\n",
      "Image - Min Value: 0 Max Value: 225\n",
      "Image - Shape: (32, 32, 3)\n",
      "Label - Label Id: 9 Name: truck\n"
     ]
    },
    {
     "data": {
      "image/png": "[encoded data removed]",
      "text/plain": [
       "<matplotlib.figure.Figure at 0x1e91bd53b00>"
      ]
     },
     "metadata": {
      "image/png": {
       "height": 250,
       "width": 253
      }
     },
     "output_type": "display_data"
    }
   ],
   "source": [
    "%matplotlib inline\n",
    "%config InlineBackend.figure_format = 'retina'\n",
    "\n",
    "import helper\n",
    "import numpy as np\n",
    "\n",
    "# Explore the dataset\n",
    "batch_id = 3\n",
    "sample_id = 1562\n",
    "helper.display_stats(cifar10_dataset_folder_path, batch_id, sample_id)"
   ]
  },
  {
   "cell_type": "markdown",
   "metadata": {},
   "source": [
    "## Implement Preprocess Functions\n",
    "### Normalize\n",
    "In the cell below, implement the `normalize` function to take in image data, `x`, and return it as a normalized Numpy array. The values should be in the range of 0 to 1, inclusive.  The return object should be the same shape as `x`."
   ]
  },
  {
   "cell_type": "code",
   "execution_count": 4,
   "metadata": {},
   "outputs": [
    {
     "name": "stdout",
     "output_type": "stream",
     "text": [
      "Tests Passed\n"
     ]
    }
   ],
   "source": [
    "def normalize(x):\n",
    "    \"\"\"\n",
    "    Normalize a list of sample image data in the range of 0 to 1\n",
    "    : x: List of image data.  The image shape is (32, 32, 3)\n",
    "    : return: Numpy array of normalize data\n",
    "    \"\"\"\n",
    "    # TODO: Implement Function\n",
    "    return np.divide(x, x.max())\n",
    "\n",
    "\n",
    "\"\"\"\n",
    "DON'T MODIFY ANYTHING IN THIS CELL THAT IS BELOW THIS LINE\n",
    "\"\"\"\n",
    "tests.test_normalize(normalize)"
   ]
  },
  {
   "cell_type": "markdown",
   "metadata": {},
   "source": [
    "### One-hot encode\n",
    "Just like the previous code cell, you'll be implementing a function for preprocessing.  This time, you'll implement the `one_hot_encode` function. The input, `x`, are a list of labels.  Implement the function to return the list of labels as One-Hot encoded Numpy array.  The possible values for labels are 0 to 9. The one-hot encoding function should return the same encoding for each value between each call to `one_hot_encode`.  Make sure to save the map of encodings outside the function.\n",
    "\n",
    "Hint: Don't reinvent the wheel."
   ]
  },
  {
   "cell_type": "code",
   "execution_count": 5,
   "metadata": {
    "scrolled": true
   },
   "outputs": [
    {
     "name": "stdout",
     "output_type": "stream",
     "text": [
      "Tests Passed\n"
     ]
    }
   ],
   "source": [
    "def one_hot_encode(x):\n",
    "    \"\"\"\n",
    "    One hot encode a list of sample labels. Return a one-hot encoded vector for each label.\n",
    "    : x: List of sample Labels\n",
    "    : return: Numpy array of one-hot encoded labels\n",
    "    \"\"\"\n",
    "    # TODO: Implement Function\n",
    "    #The function should look at a label and provide a (10,) shape vector that contains 1 in the label index and zero\n",
    "    #in all other\n",
    "    encoded = np.zeros((len(x), 10))\n",
    "    for i in range(len(x)):\n",
    "        encoded[i, x[i]] = 1\n",
    "    return encoded\n",
    "\"\"\"\n",
    "DON'T MODIFY ANYTHING IN THIS CELL THAT IS BELOW THIS LINE\n",
    "\"\"\"\n",
    "tests.test_one_hot_encode(one_hot_encode)"
   ]
  },
  {
   "cell_type": "markdown",
   "metadata": {},
   "source": [
    "### Randomize Data\n",
    "As you saw from exploring the data above, the order of the samples are randomized.  It doesn't hurt to randomize it again, but you don't need to for this dataset."
   ]
  },
  {
   "cell_type": "markdown",
   "metadata": {},
   "source": [
    "## Preprocess all the data and save it\n",
    "Running the code cell below will preprocess all the CIFAR-10 data and save it to file. The code below also uses 10% of the training data for validation."
   ]
  },
  {
   "cell_type": "code",
   "execution_count": 6,
   "metadata": {},
   "outputs": [],
   "source": [
    "\"\"\"\n",
    "DON'T MODIFY ANYTHING IN THIS CELL\n",
    "\"\"\"\n",
    "# Preprocess Training, Validation, and Testing Data\n",
    "helper.preprocess_and_save_data(cifar10_dataset_folder_path, normalize, one_hot_encode)"
   ]
  },
  {
   "cell_type": "markdown",
   "metadata": {},
   "source": [
    "# Check Point\n",
    "This is your first checkpoint.  If you ever decide to come back to this notebook or have to restart the notebook, you can start from here.  The preprocessed data has been saved to disk."
   ]
  },
  {
   "cell_type": "code",
   "execution_count": 3,
   "metadata": {},
   "outputs": [],
   "source": [
    "\"\"\"\n",
    "DON'T MODIFY ANYTHING IN THIS CELL\n",
    "\"\"\"\n",
    "import pickle\n",
    "import problem_unittests as tests\n",
    "import helper\n",
    "\n",
    "# Load the Preprocessed Validation data\n",
    "valid_features, valid_labels = pickle.load(open('preprocess_validation.p', mode='rb'))"
   ]
  },
  {
   "cell_type": "markdown",
   "metadata": {},
   "source": [
    "## Build the network\n",
    "For the neural network, you'll build each layer into a function.  Most of the code you've seen has been outside of functions. To test your code more thoroughly, we require that you put each layer in a function.  This allows us to give you better feedback and test for simple mistakes using our unittests before you submit your project.\n",
    "\n",
    ">**Note:** If you're finding it hard to dedicate enough time for this course each week, we've provided a small shortcut to this part of the project. In the next couple of problems, you'll have the option to use classes from the [TensorFlow Layers](https://www.tensorflow.org/api_docs/python/tf/layers) or [TensorFlow Layers (contrib)](https://www.tensorflow.org/api_guides/python/contrib.layers) packages to build each layer, except the layers you build in the \"Convolutional and Max Pooling Layer\" section.  TF Layers is similar to Keras's and TFLearn's abstraction to layers, so it's easy to pickup.\n",
    "\n",
    ">However, if you would like to get the most out of this course, try to solve all the problems _without_ using anything from the TF Layers packages. You **can** still use classes from other packages that happen to have the same name as ones you find in TF Layers! For example, instead of using the TF Layers version of the `conv2d` class, [tf.layers.conv2d](https://www.tensorflow.org/api_docs/python/tf/layers/conv2d), you would want to use the TF Neural Network version of `conv2d`, [tf.nn.conv2d](https://www.tensorflow.org/api_docs/python/tf/nn/conv2d). \n",
    "\n",
    "Let's begin!\n",
    "\n",
    "### Input\n",
    "The neural network needs to read the image data, one-hot encoded labels, and dropout keep probability. Implement the following functions\n",
    "* Implement `neural_net_image_input`\n",
    " * Return a [TF Placeholder](https://www.tensorflow.org/api_docs/python/tf/placeholder)\n",
    " * Set the shape using `image_shape` with batch size set to `None`.\n",
    " * Name the TensorFlow placeholder \"x\" using the TensorFlow `name` parameter in the [TF Placeholder](https://www.tensorflow.org/api_docs/python/tf/placeholder).\n",
    "* Implement `neural_net_label_input`\n",
    " * Return a [TF Placeholder](https://www.tensorflow.org/api_docs/python/tf/placeholder)\n",
    " * Set the shape using `n_classes` with batch size set to `None`.\n",
    " * Name the TensorFlow placeholder \"y\" using the TensorFlow `name` parameter in the [TF Placeholder](https://www.tensorflow.org/api_docs/python/tf/placeholder).\n",
    "* Implement `neural_net_keep_prob_input`\n",
    " * Return a [TF Placeholder](https://www.tensorflow.org/api_docs/python/tf/placeholder) for dropout keep probability.\n",
    " * Name the TensorFlow placeholder \"keep_prob\" using the TensorFlow `name` parameter in the [TF Placeholder](https://www.tensorflow.org/api_docs/python/tf/placeholder).\n",
    "\n",
    "These names will be used at the end of the project to load your saved model.\n",
    "\n",
    "Note: `None` for shapes in TensorFlow allow for a dynamic size."
   ]
  },
  {
   "cell_type": "code",
   "execution_count": 4,
   "metadata": {},
   "outputs": [
    {
     "name": "stdout",
     "output_type": "stream",
     "text": [
      "Image Input Tests Passed.\n",
      "Label Input Tests Passed.\n",
      "Keep Prob Tests Passed.\n"
     ]
    }
   ],
   "source": [
    "import tensorflow as tf\n",
    "\n",
    "def neural_net_image_input(image_shape):\n",
    "    \"\"\"\n",
    "    Return a Tensor for a batch of image input\n",
    "    : image_shape: Shape of the images\n",
    "    : return: Tensor for image input.\n",
    "    \"\"\"\n",
    "    # TODO: Implement Function\n",
    "    return tf.placeholder(\n",
    "            tf.float32,\n",
    "            shape = [None, 32, 32, 3],\n",
    "            name = 'x')\n",
    "\n",
    "\n",
    "def neural_net_label_input(n_classes):\n",
    "    \"\"\"\n",
    "    Return a Tensor for a batch of label input\n",
    "    : n_classes: Number of classes\n",
    "    : return: Tensor for label input.\n",
    "    \"\"\"\n",
    "    # TODO: Implement Function\n",
    "    return tf.placeholder(\n",
    "            tf.float32,\n",
    "            shape = [None, n_classes],\n",
    "            name = 'y')\n",
    "\n",
    "\n",
    "def neural_net_keep_prob_input():\n",
    "    \"\"\"\n",
    "    Return a Tensor for keep probability\n",
    "    : return: Tensor for keep probability.\n",
    "    \"\"\"\n",
    "    # TODO: Implement Function\n",
    "    return tf.placeholder(tf.float32,\n",
    "                         name = 'keep_prob')\n",
    "\n",
    "\n",
    "\"\"\"\n",
    "DON'T MODIFY ANYTHING IN THIS CELL THAT IS BELOW THIS LINE\n",
    "\"\"\"\n",
    "tf.reset_default_graph()\n",
    "tests.test_nn_image_inputs(neural_net_image_input)\n",
    "tests.test_nn_label_inputs(neural_net_label_input)\n",
    "tests.test_nn_keep_prob_inputs(neural_net_keep_prob_input)"
   ]
  },
  {
   "cell_type": "markdown",
   "metadata": {},
   "source": [
    "### Convolution and Max Pooling Layer\n",
    "Convolution layers have a lot of success with images. For this code cell, you should implement the function `conv2d_maxpool` to apply convolution then max pooling:\n",
    "* Create the weight and bias using `conv_ksize`, `conv_num_outputs` and the shape of `x_tensor`.\n",
    "* Apply a convolution to `x_tensor` using weight and `conv_strides`.\n",
    " * We recommend you use same padding, but you're welcome to use any padding.\n",
    "* Add bias\n",
    "* Add a nonlinear activation to the convolution.\n",
    "* Apply Max Pooling using `pool_ksize` and `pool_strides`.\n",
    " * We recommend you use same padding, but you're welcome to use any padding.\n",
    "\n",
    "**Note:** You **can't** use [TensorFlow Layers](https://www.tensorflow.org/api_docs/python/tf/layers) or [TensorFlow Layers (contrib)](https://www.tensorflow.org/api_guides/python/contrib.layers) for **this** layer, but you can still use TensorFlow's [Neural Network](https://www.tensorflow.org/api_docs/python/tf/nn) package. You may still use the shortcut option for all the **other** layers."
   ]
  },
  {
   "cell_type": "code",
   "execution_count": 5,
   "metadata": {},
   "outputs": [
    {
     "name": "stdout",
     "output_type": "stream",
     "text": [
      "Tests Passed\n"
     ]
    }
   ],
   "source": [
    "def conv2d_maxpool(x_tensor, conv_num_outputs, conv_ksize, conv_strides, pool_ksize, pool_strides):\n",
    "    \"\"\"\n",
    "    Apply convolution then max pooling to x_tensor\n",
    "    :param x_tensor: TensorFlow Tensor\n",
    "    :param conv_num_outputs: Number of outputs for the convolutional layer\n",
    "    :param conv_ksize: kernal size 2-D Tuple for the convolutional layer\n",
    "    :param conv_strides: Stride 2-D Tuple for convolution\n",
    "    :param pool_ksize: kernal size 2-D Tuple for pool\n",
    "    :param pool_strides: Stride 2-D Tuple for pool\n",
    "    : return: A tensor that represents convolution and max pooling of x_tensor\n",
    "    \"\"\"\n",
    "    # TODO: Implement Function\n",
    "    # Weights have a 4D-shape. The first two are the kernel spatial dimensions.\n",
    "    # The third is the INPUT (x_tensor) depth and the last, the output depth (conv_num_outputs).\n",
    "    #print(conv_ksize)\n",
    "    #print(x_tensor.get_shape().as_list())\n",
    "    input_depth = x_tensor.get_shape().as_list()[-1] #Getting input depth dimension\n",
    "    #padding = 'SAME'\n",
    "    #Weight and bias\n",
    "    F_W  = tf.Variable(tf.truncated_normal((conv_ksize[0], conv_ksize[1], input_depth, conv_num_outputs), mean = 0.0, stddev = .1))\n",
    "    F_b = tf.Variable(tf.zeros(conv_num_outputs))\n",
    "\n",
    "    #Apply Convolution\n",
    "    Conv_layer = tf.nn.conv2d(x_tensor, F_W, strides = [1, conv_strides[0], conv_strides[1], 1], padding = 'SAME')\n",
    "    \n",
    "    #Add bias\n",
    "    Conv_layer = tf.nn.bias_add(Conv_layer, F_b)\n",
    "    \n",
    "    #Applying non-linearity\n",
    "    Conv_layer = tf.nn.relu(Conv_layer)\n",
    "    \n",
    "    #Applying max-pooling\n",
    "    return tf.nn.max_pool(Conv_layer, [1, pool_ksize[0], pool_ksize[1], 1], [1, pool_strides[0], pool_strides[1], 1], padding = 'SAME')\n",
    "\"\"\"\n",
    "DON'T MODIFY ANYTHING IN THIS CELL THAT IS BELOW THIS LINE\n",
    "\"\"\"\n",
    "tests.test_con_pool(conv2d_maxpool)"
   ]
  },
  {
   "cell_type": "markdown",
   "metadata": {},
   "source": [
    "### Flatten Layer\n",
    "Implement the `flatten` function to change the dimension of `x_tensor` from a 4-D tensor to a 2-D tensor.  The output should be the shape (*Batch Size*, *Flattened Image Size*). Shortcut option: you can use classes from the [TensorFlow Layers](https://www.tensorflow.org/api_docs/python/tf/layers) or [TensorFlow Layers (contrib)](https://www.tensorflow.org/api_guides/python/contrib.layers) packages for this layer. For more of a challenge, only use other TensorFlow packages."
   ]
  },
  {
   "cell_type": "code",
   "execution_count": 7,
   "metadata": {},
   "outputs": [
    {
     "name": "stdout",
     "output_type": "stream",
     "text": [
      "Tests Passed\n"
     ]
    }
   ],
   "source": [
    "def flatten(x_tensor):\n",
    "    \"\"\"\n",
    "    Flatten x_tensor to (Batch Size, Flattened Image Size)\n",
    "    : x_tensor: A tensor of size (Batch Size, ...), where ... are the image dimensions.\n",
    "    : return: A tensor of size (Batch Size, Flattened Image Size).\n",
    "    \"\"\"\n",
    "    # TODO: Implement Function\n",
    "    shape_list = (x_tensor.get_shape().as_list())\n",
    "    #print(shape_list[0])\n",
    "    flattened_size = shape_list[1]*shape_list[2]*shape_list[3]\n",
    "    #myt = tf.reshape(x_tensor, [-1, flattened_size])\n",
    "    #print(myt.get_shape().as_list())\n",
    "    return tf.reshape(x_tensor, [-1, flattened_size]) #-1 is used to Flatten the tensor, i.e. it'll have ONE SINGLE row and\n",
    "                                                        #flattened_size columns\n",
    "\n",
    "\n",
    "\"\"\"\n",
    "DON'T MODIFY ANYTHING IN THIS CELL THAT IS BELOW THIS LINE\n",
    "\"\"\"\n",
    "tests.test_flatten(flatten)"
   ]
  },
  {
   "cell_type": "markdown",
   "metadata": {},
   "source": [
    "### Fully-Connected Layer\n",
    "Implement the `fully_conn` function to apply a fully connected layer to `x_tensor` with the shape (*Batch Size*, *num_outputs*). Shortcut option: you can use classes from the [TensorFlow Layers](https://www.tensorflow.org/api_docs/python/tf/layers) or [TensorFlow Layers (contrib)](https://www.tensorflow.org/api_guides/python/contrib.layers) packages for this layer. For more of a challenge, only use other TensorFlow packages."
   ]
  },
  {
   "cell_type": "code",
   "execution_count": 59,
   "metadata": {},
   "outputs": [
    {
     "name": "stdout",
     "output_type": "stream",
     "text": [
      "Tests Passed\n"
     ]
    }
   ],
   "source": [
    "def fully_conn(x_tensor, num_outputs):\n",
    "    \"\"\"\n",
    "    Apply a fully connected layer to x_tensor using weight and bias\n",
    "    : x_tensor: A 2-D tensor where the first dimension is batch size.\n",
    "    : num_outputs: The number of output that the new tensor should be.\n",
    "    : return: A 2-D tensor where the second dimension is num_outputs.\n",
    "    \"\"\"\n",
    "    # TODO: Implement Function\n",
    "    depth_in = (x_tensor.get_shape().as_list()[-1])\n",
    "    weights = tf.Variable(tf.truncated_normal([depth_in, num_outputs], mean = 0.0, stddev = .1))\n",
    "    bias = tf.Variable(tf.zeros([num_outputs]))\n",
    "    return tf.nn.relu(tf.matmul(x_tensor, weights) + bias)\n",
    "\n",
    "\"\"\"\n",
    "DON'T MODIFY ANYTHING IN THIS CELL THAT IS BELOW THIS LINE\n",
    "\"\"\"\n",
    "tests.test_fully_conn(fully_conn)"
   ]
  },
  {
   "cell_type": "markdown",
   "metadata": {},
   "source": [
    "### Output Layer\n",
    "Implement the `output` function to apply a fully connected layer to `x_tensor` with the shape (*Batch Size*, *num_outputs*). Shortcut option: you can use classes from the [TensorFlow Layers](https://www.tensorflow.org/api_docs/python/tf/layers) or [TensorFlow Layers (contrib)](https://www.tensorflow.org/api_guides/python/contrib.layers) packages for this layer. For more of a challenge, only use other TensorFlow packages.\n",
    "\n",
    "**Note:** Activation, softmax, or cross entropy should **not** be applied to this."
   ]
  },
  {
   "cell_type": "code",
   "execution_count": 60,
   "metadata": {},
   "outputs": [
    {
     "name": "stdout",
     "output_type": "stream",
     "text": [
      "Tests Passed\n"
     ]
    }
   ],
   "source": [
    "def output(x_tensor, num_outputs):\n",
    "    \"\"\"\n",
    "    Apply a output layer to x_tensor using weight and bias\n",
    "    : x_tensor: A 2-D tensor where the first dimension is batch size.\n",
    "    : num_outputs: The number of output that the new tensor should be.\n",
    "    : return: A 2-D tensor where the second dimension is num_outputs.\n",
    "    \"\"\"\n",
    "    # TODO: Implement Function\n",
    "    shape = (x_tensor.get_shape().as_list()[-1])\n",
    "    #print(shape)\n",
    "    weights = tf.Variable(tf.truncated_normal([shape, num_outputs], mean = 0.0, stddev = .1))\n",
    "    bias = tf.Variable(tf.zeros([num_outputs]))\n",
    "    #print(bias)\n",
    "    return tf.add((tf.matmul(x_tensor, weights)), bias)\n",
    "    #return tf.placeholder(tf.float32, [None, num_outputs])\n",
    "\n",
    "\n",
    "\"\"\"\n",
    "DON'T MODIFY ANYTHING IN THIS CELL THAT IS BELOW THIS LINE\n",
    "\"\"\"\n",
    "tests.test_output(output)"
   ]
  },
  {
   "cell_type": "markdown",
   "metadata": {},
   "source": [
    "### Create Convolutional Model\n",
    "Implement the function `conv_net` to create a convolutional neural network model. The function takes in a batch of images, `x`, and outputs logits.  Use the layers you created above to create this model:\n",
    "\n",
    "* Apply 1, 2, or 3 Convolution and Max Pool layers\n",
    "* Apply a Flatten Layer\n",
    "* Apply 1, 2, or 3 Fully Connected Layers\n",
    "* Apply an Output Layer\n",
    "* Return the output\n",
    "* Apply [TensorFlow's Dropout](https://www.tensorflow.org/api_docs/python/tf/nn/dropout) to one or more layers in the model using `keep_prob`. "
   ]
  },
  {
   "cell_type": "code",
   "execution_count": 67,
   "metadata": {},
   "outputs": [
    {
     "name": "stdout",
     "output_type": "stream",
     "text": [
      "None\n",
      "None\n",
      "Neural Network Built!\n"
     ]
    }
   ],
   "source": [
    "def conv_net(x, keep_prob):\n",
    "    \"\"\"\n",
    "    Create a convolutional neural network model\n",
    "    : x: Placeholder tensor that holds image data.\n",
    "    : keep_prob: Placeholder tensor that hold dropout keep probability.\n",
    "    : return: Tensor that represents logits\n",
    "    \"\"\"\n",
    "    # TODO: Apply 1, 2, or 3 Convolution and Max Pool layers\n",
    "    #    Play around with different number of outputs, kernel size and stride\n",
    "    # Function Definition from Above:\n",
    "    #    conv2d_maxpool(x_tensor, conv_num_outputs, conv_ksize, conv_strides, pool_ksize, pool_strides)\n",
    "    #conv_num_outputs = 50\n",
    "    conv_ksize = (5,5)\n",
    "    conv_strides = (2,2)\n",
    "    pool_ksize = (5,5)\n",
    "    pool_strides = (2,2)\n",
    "    conv1 = conv2d_maxpool(x, 16, conv_ksize, conv_strides, pool_ksize, pool_strides)\n",
    "    conv2 = conv2d_maxpool(conv1, 32, conv_ksize, conv_strides, pool_ksize, pool_strides)\n",
    "    #conv3 = conv2d_maxpool(conv2, 64, conv_ksize, conv_strides, pool_ksize, pool_strides)\n",
    "    # TODO: Apply a Flatten Layer\n",
    "    # Function Definition from Above:\n",
    "    #   flatten(x_tensor)\n",
    "    flattened = flatten(conv2)\n",
    "\n",
    "    # TODO: Apply 1, 2, or 3 Fully Connected Layers\n",
    "    #    Play around with different number of outputs\n",
    "    # Function Definition from Above:\n",
    "    #   fully_conn(x_tensor, num_outputs)\n",
    "    #num_outputs = 20\n",
    "    fc1 = tf.nn.dropout(fully_conn(flattened, 128), keep_prob)\n",
    "    fc2 = tf.nn.dropout(fully_conn(fc1, 64), keep_prob)\n",
    "    \n",
    "    # TODO: Apply an Output Layer\n",
    "    #    Set this to the number of classes\n",
    "    # Function Definition from Above:\n",
    "    #   output(x_tensor, num_outputs)\n",
    "    num_classes = 10\n",
    "    output_NN = output(fc2, num_classes)\n",
    "    \n",
    "    # TODO: return output\n",
    "    return output_NN\n",
    "\n",
    "\n",
    "\"\"\"\n",
    "DON'T MODIFY ANYTHING IN THIS CELL THAT IS BELOW THIS LINE\n",
    "\"\"\"\n",
    "\n",
    "##############################\n",
    "## Build the Neural Network ##\n",
    "##############################\n",
    "\n",
    "# Remove previous weights, bias, inputs, etc..\n",
    "tf.reset_default_graph()\n",
    "\n",
    "# Inputs\n",
    "x = neural_net_image_input((32, 32, 3))\n",
    "y = neural_net_label_input(10)\n",
    "keep_prob = neural_net_keep_prob_input()\n",
    "\n",
    "# Model\n",
    "logits = conv_net(x, keep_prob)\n",
    "\n",
    "# Name logits Tensor, so that is can be loaded from disk after training\n",
    "logits = tf.identity(logits, name='logits')\n",
    "\n",
    "# Loss and Optimizer\n",
    "cost = tf.reduce_mean(tf.nn.softmax_cross_entropy_with_logits(logits=logits, labels=y))\n",
    "optimizer = tf.train.AdamOptimizer().minimize(cost)\n",
    "\n",
    "# Accuracy\n",
    "correct_pred = tf.equal(tf.argmax(logits, 1), tf.argmax(y, 1))\n",
    "accuracy = tf.reduce_mean(tf.cast(correct_pred, tf.float32), name='accuracy')\n",
    "\n",
    "tests.test_conv_net(conv_net)"
   ]
  },
  {
   "cell_type": "markdown",
   "metadata": {},
   "source": [
    "## Train the Neural Network\n",
    "### Single Optimization\n",
    "Implement the function `train_neural_network` to do a single optimization.  The optimization should use `optimizer` to optimize in `session` with a `feed_dict` of the following:\n",
    "* `x` for image input\n",
    "* `y` for labels\n",
    "* `keep_prob` for keep probability for dropout\n",
    "\n",
    "This function will be called for each batch, so `tf.global_variables_initializer()` has already been called.\n",
    "\n",
    "Note: Nothing needs to be returned. This function is only optimizing the neural network."
   ]
  },
  {
   "cell_type": "code",
   "execution_count": 68,
   "metadata": {},
   "outputs": [
    {
     "name": "stdout",
     "output_type": "stream",
     "text": [
      "Tests Passed\n"
     ]
    }
   ],
   "source": [
    "def train_neural_network(session, optimizer, keep_probability, feature_batch, label_batch):\n",
    "    \"\"\"\n",
    "    Optimize the session on a batch of images and labels\n",
    "    : session: Current TensorFlow session\n",
    "    : optimizer: TensorFlow optimizer function\n",
    "    : keep_probability: keep probability\n",
    "    : feature_batch: Batch of Numpy image data\n",
    "    : label_batch: Batch of Numpy label data\n",
    "    \"\"\"\n",
    "    # TODO: Implement Function\n",
    "\n",
    "    session.run(optimizer, feed_dict={x:feature_batch, y:label_batch, keep_prob:keep_probability})\n",
    "\n",
    "\n",
    "\"\"\"\n",
    "DON'T MODIFY ANYTHING IN THIS CELL THAT IS BELOW THIS LINE\n",
    "\"\"\"\n",
    "tests.test_train_nn(train_neural_network)"
   ]
  },
  {
   "cell_type": "markdown",
   "metadata": {},
   "source": [
    "### Show Stats\n",
    "Implement the function `print_stats` to print loss and validation accuracy.  Use the global variables `valid_features` and `valid_labels` to calculate validation accuracy.  Use a keep probability of `1.0` to calculate the loss and validation accuracy."
   ]
  },
  {
   "cell_type": "code",
   "execution_count": 69,
   "metadata": {},
   "outputs": [],
   "source": [
    "def print_stats(session, feature_batch, label_batch, cost, accuracy):\n",
    "    \"\"\"\n",
    "    Print information about loss and validation accuracy\n",
    "    : session: Current TensorFlow session\n",
    "    : feature_batch: Batch of Numpy image data\n",
    "    : label_batch: Batch of Numpy label data\n",
    "    : cost: TensorFlow cost function\n",
    "    : accuracy: TensorFlow accuracy function\n",
    "    \"\"\"\n",
    "    # TODO: Implement Function\n",
    "    loss = session.run(cost, feed_dict = {x: feature_batch,\n",
    "                                          y: label_batch,\n",
    "                                          keep_prob: 1.0})\n",
    "    \n",
    "    validation_acc = session.run(accuracy, feed_dict = {x: valid_features,\n",
    "                                                       y: valid_labels,\n",
    "                                                       keep_prob: 1.0})\n",
    "    #print('Loss: ', loss, 'Validation Accuracy: ', validation_acc)\n",
    "    print('Loss: {:>10.4f} Validation Accuracy: {:.6f}'.format(loss, validation_acc))"
   ]
  },
  {
   "cell_type": "markdown",
   "metadata": {},
   "source": [
    "### Hyperparameters\n",
    "Tune the following parameters:\n",
    "* Set `epochs` to the number of iterations until the network stops learning or start overfitting\n",
    "* Set `batch_size` to the highest number that your machine has memory for.  Most people set them to common sizes of memory:\n",
    " * 64\n",
    " * 128\n",
    " * 256\n",
    " * ...\n",
    "* Set `keep_probability` to the probability of keeping a node using dropout"
   ]
  },
  {
   "cell_type": "code",
   "execution_count": 70,
   "metadata": {},
   "outputs": [],
   "source": [
    "# TODO: Tune Parameters\n",
    "epochs = 50\n",
    "batch_size = 128\n",
    "keep_probability = 0.5"
   ]
  },
  {
   "cell_type": "markdown",
   "metadata": {},
   "source": [
    "### Train on a Single CIFAR-10 Batch\n",
    "Instead of training the neural network on all the CIFAR-10 batches of data, let's use a single batch. This should save time while you iterate on the model to get a better accuracy.  Once the final validation accuracy is 50% or greater, run the model on all the data in the next section."
   ]
  },
  {
   "cell_type": "code",
   "execution_count": 71,
   "metadata": {},
   "outputs": [
    {
     "name": "stdout",
     "output_type": "stream",
     "text": [
      "Checking the Training on a Single Batch...\n",
      "Epoch  1, CIFAR-10 Batch 1:  Loss:     2.1400 Validation Accuracy: 0.242200\n",
      "Epoch  2, CIFAR-10 Batch 1:  Loss:     1.9856 Validation Accuracy: 0.302000\n",
      "Epoch  3, CIFAR-10 Batch 1:  Loss:     1.9260 Validation Accuracy: 0.332200\n",
      "Epoch  4, CIFAR-10 Batch 1:  Loss:     1.8030 Validation Accuracy: 0.372000\n",
      "Epoch  5, CIFAR-10 Batch 1:  Loss:     1.7565 Validation Accuracy: 0.384400\n",
      "Epoch  6, CIFAR-10 Batch 1:  Loss:     1.6239 Validation Accuracy: 0.394600\n",
      "Epoch  7, CIFAR-10 Batch 1:  Loss:     1.5510 Validation Accuracy: 0.406800\n",
      "Epoch  8, CIFAR-10 Batch 1:  Loss:     1.5084 Validation Accuracy: 0.428000\n",
      "Epoch  9, CIFAR-10 Batch 1:  Loss:     1.4555 Validation Accuracy: 0.433400\n",
      "Epoch 10, CIFAR-10 Batch 1:  Loss:     1.3600 Validation Accuracy: 0.453200\n",
      "Epoch 11, CIFAR-10 Batch 1:  Loss:     1.3212 Validation Accuracy: 0.466600\n",
      "Epoch 12, CIFAR-10 Batch 1:  Loss:     1.3350 Validation Accuracy: 0.455000\n",
      "Epoch 13, CIFAR-10 Batch 1:  Loss:     1.2392 Validation Accuracy: 0.467800\n",
      "Epoch 14, CIFAR-10 Batch 1:  Loss:     1.1954 Validation Accuracy: 0.465400\n",
      "Epoch 15, CIFAR-10 Batch 1:  Loss:     1.1452 Validation Accuracy: 0.469400\n",
      "Epoch 16, CIFAR-10 Batch 1:  Loss:     1.1509 Validation Accuracy: 0.480200\n",
      "Epoch 17, CIFAR-10 Batch 1:  Loss:     1.0811 Validation Accuracy: 0.474400\n",
      "Epoch 18, CIFAR-10 Batch 1:  Loss:     1.1271 Validation Accuracy: 0.475600\n",
      "Epoch 19, CIFAR-10 Batch 1:  Loss:     1.0238 Validation Accuracy: 0.481800\n",
      "Epoch 20, CIFAR-10 Batch 1:  Loss:     0.9887 Validation Accuracy: 0.502400\n",
      "Epoch 21, CIFAR-10 Batch 1:  Loss:     1.0008 Validation Accuracy: 0.485000\n",
      "Epoch 22, CIFAR-10 Batch 1:  Loss:     0.9424 Validation Accuracy: 0.495400\n",
      "Epoch 23, CIFAR-10 Batch 1:  Loss:     0.9586 Validation Accuracy: 0.504200\n",
      "Epoch 24, CIFAR-10 Batch 1:  Loss:     0.9425 Validation Accuracy: 0.501000\n",
      "Epoch 25, CIFAR-10 Batch 1:  Loss:     0.9152 Validation Accuracy: 0.510600\n",
      "Epoch 26, CIFAR-10 Batch 1:  Loss:     0.9002 Validation Accuracy: 0.505600\n",
      "Epoch 27, CIFAR-10 Batch 1:  Loss:     0.8590 Validation Accuracy: 0.506400\n",
      "Epoch 28, CIFAR-10 Batch 1:  Loss:     0.8848 Validation Accuracy: 0.516600\n",
      "Epoch 29, CIFAR-10 Batch 1:  Loss:     0.8265 Validation Accuracy: 0.509200\n",
      "Epoch 30, CIFAR-10 Batch 1:  Loss:     0.8655 Validation Accuracy: 0.514200\n",
      "Epoch 31, CIFAR-10 Batch 1:  Loss:     0.7734 Validation Accuracy: 0.518000\n",
      "Epoch 32, CIFAR-10 Batch 1:  Loss:     0.7576 Validation Accuracy: 0.514600\n",
      "Epoch 33, CIFAR-10 Batch 1:  Loss:     0.7980 Validation Accuracy: 0.503600\n",
      "Epoch 34, CIFAR-10 Batch 1:  Loss:     0.7627 Validation Accuracy: 0.507400\n",
      "Epoch 35, CIFAR-10 Batch 1:  Loss:     0.7667 Validation Accuracy: 0.508200\n",
      "Epoch 36, CIFAR-10 Batch 1:  Loss:     0.7790 Validation Accuracy: 0.506400\n",
      "Epoch 37, CIFAR-10 Batch 1:  Loss:     0.8461 Validation Accuracy: 0.491400\n",
      "Epoch 38, CIFAR-10 Batch 1:  Loss:     0.8394 Validation Accuracy: 0.499000\n",
      "Epoch 39, CIFAR-10 Batch 1:  Loss:     0.8194 Validation Accuracy: 0.493400\n",
      "Epoch 40, CIFAR-10 Batch 1:  Loss:     0.8093 Validation Accuracy: 0.492800\n",
      "Epoch 41, CIFAR-10 Batch 1:  Loss:     0.7868 Validation Accuracy: 0.492400\n",
      "Epoch 42, CIFAR-10 Batch 1:  Loss:     0.8710 Validation Accuracy: 0.498000\n",
      "Epoch 43, CIFAR-10 Batch 1:  Loss:     0.7491 Validation Accuracy: 0.526400\n",
      "Epoch 44, CIFAR-10 Batch 1:  Loss:     0.7387 Validation Accuracy: 0.520200\n",
      "Epoch 45, CIFAR-10 Batch 1:  Loss:     0.7539 Validation Accuracy: 0.524600\n",
      "Epoch 46, CIFAR-10 Batch 1:  Loss:     0.7149 Validation Accuracy: 0.528200\n",
      "Epoch 47, CIFAR-10 Batch 1:  Loss:     0.6952 Validation Accuracy: 0.524200\n",
      "Epoch 48, CIFAR-10 Batch 1:  Loss:     0.7054 Validation Accuracy: 0.517200\n",
      "Epoch 49, CIFAR-10 Batch 1:  Loss:     0.6559 Validation Accuracy: 0.524200\n",
      "Epoch 50, CIFAR-10 Batch 1:  Loss:     0.6588 Validation Accuracy: 0.527800\n"
     ]
    }
   ],
   "source": [
    "\"\"\"\n",
    "DON'T MODIFY ANYTHING IN THIS CELL\n",
    "\"\"\"\n",
    "print('Checking the Training on a Single Batch...')\n",
    "with tf.Session() as sess:\n",
    "    # Initializing the variables\n",
    "    sess.run(tf.global_variables_initializer())\n",
    "    \n",
    "    # Training cycle\n",
    "    for epoch in range(epochs):\n",
    "        batch_i = 1\n",
    "        for batch_features, batch_labels in helper.load_preprocess_training_batch(batch_i, batch_size):\n",
    "            train_neural_network(sess, optimizer, keep_probability, batch_features, batch_labels)\n",
    "        print('Epoch {:>2}, CIFAR-10 Batch {}:  '.format(epoch + 1, batch_i), end='')\n",
    "        print_stats(sess, batch_features, batch_labels, cost, accuracy)"
   ]
  },
  {
   "cell_type": "markdown",
   "metadata": {},
   "source": [
    "### Fully Train the Model\n",
    "Now that you got a good accuracy with a single CIFAR-10 batch, try it with all five batches."
   ]
  },
  {
   "cell_type": "code",
   "execution_count": 72,
   "metadata": {},
   "outputs": [
    {
     "name": "stdout",
     "output_type": "stream",
     "text": [
      "Training...\n",
      "Epoch  1, CIFAR-10 Batch 1:  Loss:     2.2107 Validation Accuracy: 0.245000\n",
      "Epoch  1, CIFAR-10 Batch 2:  Loss:     1.9350 Validation Accuracy: 0.292600\n",
      "Epoch  1, CIFAR-10 Batch 3:  Loss:     1.7812 Validation Accuracy: 0.306400\n",
      "Epoch  1, CIFAR-10 Batch 4:  Loss:     1.7830 Validation Accuracy: 0.358200\n",
      "Epoch  1, CIFAR-10 Batch 5:  Loss:     1.6049 Validation Accuracy: 0.377200\n",
      "Epoch  2, CIFAR-10 Batch 1:  Loss:     1.8872 Validation Accuracy: 0.370400\n",
      "Epoch  2, CIFAR-10 Batch 2:  Loss:     1.7463 Validation Accuracy: 0.392000\n",
      "Epoch  2, CIFAR-10 Batch 3:  Loss:     1.4107 Validation Accuracy: 0.410800\n",
      "Epoch  2, CIFAR-10 Batch 4:  Loss:     1.6837 Validation Accuracy: 0.414000\n",
      "Epoch  2, CIFAR-10 Batch 5:  Loss:     1.5043 Validation Accuracy: 0.424600\n",
      "Epoch  3, CIFAR-10 Batch 1:  Loss:     1.7446 Validation Accuracy: 0.445600\n",
      "Epoch  3, CIFAR-10 Batch 2:  Loss:     1.6450 Validation Accuracy: 0.446400\n",
      "Epoch  3, CIFAR-10 Batch 3:  Loss:     1.3149 Validation Accuracy: 0.453600\n",
      "Epoch  3, CIFAR-10 Batch 4:  Loss:     1.5140 Validation Accuracy: 0.465600\n",
      "Epoch  3, CIFAR-10 Batch 5:  Loss:     1.4091 Validation Accuracy: 0.456200\n",
      "Epoch  4, CIFAR-10 Batch 1:  Loss:     1.6450 Validation Accuracy: 0.480800\n",
      "Epoch  4, CIFAR-10 Batch 2:  Loss:     1.4816 Validation Accuracy: 0.455000\n",
      "Epoch  4, CIFAR-10 Batch 3:  Loss:     1.1603 Validation Accuracy: 0.480600\n",
      "Epoch  4, CIFAR-10 Batch 4:  Loss:     1.4256 Validation Accuracy: 0.492200\n",
      "Epoch  4, CIFAR-10 Batch 5:  Loss:     1.3485 Validation Accuracy: 0.489800\n",
      "Epoch  5, CIFAR-10 Batch 1:  Loss:     1.4569 Validation Accuracy: 0.498600\n",
      "Epoch  5, CIFAR-10 Batch 2:  Loss:     1.3677 Validation Accuracy: 0.496400\n",
      "Epoch  5, CIFAR-10 Batch 3:  Loss:     1.1064 Validation Accuracy: 0.504600\n",
      "Epoch  5, CIFAR-10 Batch 4:  Loss:     1.3843 Validation Accuracy: 0.513600\n",
      "Epoch  5, CIFAR-10 Batch 5:  Loss:     1.3433 Validation Accuracy: 0.499800\n",
      "Epoch  6, CIFAR-10 Batch 1:  Loss:     1.4286 Validation Accuracy: 0.497800\n",
      "Epoch  6, CIFAR-10 Batch 2:  Loss:     1.3406 Validation Accuracy: 0.514000\n",
      "Epoch  6, CIFAR-10 Batch 3:  Loss:     1.0130 Validation Accuracy: 0.513600\n",
      "Epoch  6, CIFAR-10 Batch 4:  Loss:     1.3702 Validation Accuracy: 0.527200\n",
      "Epoch  6, CIFAR-10 Batch 5:  Loss:     1.2790 Validation Accuracy: 0.513400\n",
      "Epoch  7, CIFAR-10 Batch 1:  Loss:     1.4015 Validation Accuracy: 0.511200\n",
      "Epoch  7, CIFAR-10 Batch 2:  Loss:     1.3489 Validation Accuracy: 0.533600\n",
      "Epoch  7, CIFAR-10 Batch 3:  Loss:     1.0109 Validation Accuracy: 0.525400\n",
      "Epoch  7, CIFAR-10 Batch 4:  Loss:     1.2715 Validation Accuracy: 0.544400\n",
      "Epoch  7, CIFAR-10 Batch 5:  Loss:     1.2104 Validation Accuracy: 0.504800\n",
      "Epoch  8, CIFAR-10 Batch 1:  Loss:     1.2720 Validation Accuracy: 0.539600\n",
      "Epoch  8, CIFAR-10 Batch 2:  Loss:     1.2184 Validation Accuracy: 0.536800\n",
      "Epoch  8, CIFAR-10 Batch 3:  Loss:     0.9650 Validation Accuracy: 0.525600\n",
      "Epoch  8, CIFAR-10 Batch 4:  Loss:     1.2856 Validation Accuracy: 0.540000\n",
      "Epoch  8, CIFAR-10 Batch 5:  Loss:     1.1735 Validation Accuracy: 0.542000\n",
      "Epoch  9, CIFAR-10 Batch 1:  Loss:     1.3150 Validation Accuracy: 0.549600\n",
      "Epoch  9, CIFAR-10 Batch 2:  Loss:     1.1838 Validation Accuracy: 0.534000\n",
      "Epoch  9, CIFAR-10 Batch 3:  Loss:     0.9514 Validation Accuracy: 0.528400\n",
      "Epoch  9, CIFAR-10 Batch 4:  Loss:     1.2542 Validation Accuracy: 0.552200\n",
      "Epoch  9, CIFAR-10 Batch 5:  Loss:     1.1608 Validation Accuracy: 0.549400\n",
      "Epoch 10, CIFAR-10 Batch 1:  Loss:     1.2358 Validation Accuracy: 0.541400\n",
      "Epoch 10, CIFAR-10 Batch 2:  Loss:     1.1573 Validation Accuracy: 0.546600\n",
      "Epoch 10, CIFAR-10 Batch 3:  Loss:     0.9425 Validation Accuracy: 0.539000\n",
      "Epoch 10, CIFAR-10 Batch 4:  Loss:     1.2445 Validation Accuracy: 0.554000\n",
      "Epoch 10, CIFAR-10 Batch 5:  Loss:     1.1140 Validation Accuracy: 0.541800\n",
      "Epoch 11, CIFAR-10 Batch 1:  Loss:     1.1822 Validation Accuracy: 0.555200\n",
      "Epoch 11, CIFAR-10 Batch 2:  Loss:     1.1329 Validation Accuracy: 0.550000\n",
      "Epoch 11, CIFAR-10 Batch 3:  Loss:     0.8842 Validation Accuracy: 0.533200\n",
      "Epoch 11, CIFAR-10 Batch 4:  Loss:     1.1745 Validation Accuracy: 0.561000\n",
      "Epoch 11, CIFAR-10 Batch 5:  Loss:     1.0673 Validation Accuracy: 0.553800\n",
      "Epoch 12, CIFAR-10 Batch 1:  Loss:     1.1568 Validation Accuracy: 0.551400\n",
      "Epoch 12, CIFAR-10 Batch 2:  Loss:     1.1099 Validation Accuracy: 0.568200\n",
      "Epoch 12, CIFAR-10 Batch 3:  Loss:     0.8723 Validation Accuracy: 0.550000\n",
      "Epoch 12, CIFAR-10 Batch 4:  Loss:     1.2081 Validation Accuracy: 0.557000\n",
      "Epoch 12, CIFAR-10 Batch 5:  Loss:     1.0861 Validation Accuracy: 0.539800\n",
      "Epoch 13, CIFAR-10 Batch 1:  Loss:     1.1676 Validation Accuracy: 0.556000\n",
      "Epoch 13, CIFAR-10 Batch 2:  Loss:     1.0623 Validation Accuracy: 0.570600\n",
      "Epoch 13, CIFAR-10 Batch 3:  Loss:     0.8471 Validation Accuracy: 0.551000\n",
      "Epoch 13, CIFAR-10 Batch 4:  Loss:     1.1937 Validation Accuracy: 0.564800\n",
      "Epoch 13, CIFAR-10 Batch 5:  Loss:     1.0254 Validation Accuracy: 0.554600\n",
      "Epoch 14, CIFAR-10 Batch 1:  Loss:     1.0753 Validation Accuracy: 0.562000\n",
      "Epoch 14, CIFAR-10 Batch 2:  Loss:     1.0269 Validation Accuracy: 0.569600\n",
      "Epoch 14, CIFAR-10 Batch 3:  Loss:     0.8232 Validation Accuracy: 0.553400\n",
      "Epoch 14, CIFAR-10 Batch 4:  Loss:     1.1800 Validation Accuracy: 0.570000\n",
      "Epoch 14, CIFAR-10 Batch 5:  Loss:     0.9807 Validation Accuracy: 0.563800\n",
      "Epoch 15, CIFAR-10 Batch 1:  Loss:     0.9911 Validation Accuracy: 0.580800\n",
      "Epoch 15, CIFAR-10 Batch 2:  Loss:     1.0064 Validation Accuracy: 0.571000\n",
      "Epoch 15, CIFAR-10 Batch 3:  Loss:     0.8664 Validation Accuracy: 0.556000\n",
      "Epoch 15, CIFAR-10 Batch 4:  Loss:     1.1618 Validation Accuracy: 0.567200\n",
      "Epoch 15, CIFAR-10 Batch 5:  Loss:     0.9256 Validation Accuracy: 0.563200\n",
      "Epoch 16, CIFAR-10 Batch 1:  Loss:     1.0013 Validation Accuracy: 0.573400\n",
      "Epoch 16, CIFAR-10 Batch 2:  Loss:     0.9596 Validation Accuracy: 0.578000\n",
      "Epoch 16, CIFAR-10 Batch 3:  Loss:     0.8515 Validation Accuracy: 0.559000\n",
      "Epoch 16, CIFAR-10 Batch 4:  Loss:     1.1632 Validation Accuracy: 0.564600\n",
      "Epoch 16, CIFAR-10 Batch 5:  Loss:     0.9409 Validation Accuracy: 0.562200\n",
      "Epoch 17, CIFAR-10 Batch 1:  Loss:     0.9936 Validation Accuracy: 0.568200\n",
      "Epoch 17, CIFAR-10 Batch 2:  Loss:     0.9158 Validation Accuracy: 0.579400\n",
      "Epoch 17, CIFAR-10 Batch 3:  Loss:     0.8245 Validation Accuracy: 0.557400\n",
      "Epoch 17, CIFAR-10 Batch 4:  Loss:     1.1072 Validation Accuracy: 0.580800\n",
      "Epoch 17, CIFAR-10 Batch 5:  Loss:     0.9542 Validation Accuracy: 0.563000\n",
      "Epoch 18, CIFAR-10 Batch 1:  Loss:     1.0080 Validation Accuracy: 0.588200\n",
      "Epoch 18, CIFAR-10 Batch 2:  Loss:     0.8936 Validation Accuracy: 0.577600\n",
      "Epoch 18, CIFAR-10 Batch 3:  Loss:     0.8523 Validation Accuracy: 0.581600\n",
      "Epoch 18, CIFAR-10 Batch 4:  Loss:     1.0832 Validation Accuracy: 0.585200\n",
      "Epoch 18, CIFAR-10 Batch 5:  Loss:     0.9005 Validation Accuracy: 0.575200\n",
      "Epoch 19, CIFAR-10 Batch 1:  Loss:     0.9760 Validation Accuracy: 0.577000\n",
      "Epoch 19, CIFAR-10 Batch 2:  Loss:     0.8724 Validation Accuracy: 0.581400\n",
      "Epoch 19, CIFAR-10 Batch 3:  Loss:     0.8245 Validation Accuracy: 0.576200\n",
      "Epoch 19, CIFAR-10 Batch 4:  Loss:     1.0519 Validation Accuracy: 0.579800\n",
      "Epoch 19, CIFAR-10 Batch 5:  Loss:     0.9442 Validation Accuracy: 0.582600\n",
      "Epoch 20, CIFAR-10 Batch 1:  Loss:     0.9379 Validation Accuracy: 0.593400\n",
      "Epoch 20, CIFAR-10 Batch 2:  Loss:     0.8490 Validation Accuracy: 0.584400\n",
      "Epoch 20, CIFAR-10 Batch 3:  Loss:     0.7935 Validation Accuracy: 0.580200\n",
      "Epoch 20, CIFAR-10 Batch 4:  Loss:     1.0879 Validation Accuracy: 0.591800\n",
      "Epoch 20, CIFAR-10 Batch 5:  Loss:     0.8789 Validation Accuracy: 0.586400\n",
      "Epoch 21, CIFAR-10 Batch 1:  Loss:     0.8852 Validation Accuracy: 0.586600\n",
      "Epoch 21, CIFAR-10 Batch 2:  Loss:     0.8556 Validation Accuracy: 0.595800\n",
      "Epoch 21, CIFAR-10 Batch 3:  Loss:     0.7685 Validation Accuracy: 0.576600\n",
      "Epoch 21, CIFAR-10 Batch 4:  Loss:     1.0379 Validation Accuracy: 0.590400\n",
      "Epoch 21, CIFAR-10 Batch 5:  Loss:     0.8649 Validation Accuracy: 0.586000\n",
      "Epoch 22, CIFAR-10 Batch 1:  Loss:     0.9298 Validation Accuracy: 0.591200\n",
      "Epoch 22, CIFAR-10 Batch 2:  Loss:     0.8310 Validation Accuracy: 0.585800\n",
      "Epoch 22, CIFAR-10 Batch 3:  Loss:     0.7158 Validation Accuracy: 0.588800\n",
      "Epoch 22, CIFAR-10 Batch 4:  Loss:     1.0504 Validation Accuracy: 0.584000\n",
      "Epoch 22, CIFAR-10 Batch 5:  Loss:     0.8125 Validation Accuracy: 0.585200\n",
      "Epoch 23, CIFAR-10 Batch 1:  Loss:     0.9287 Validation Accuracy: 0.595400\n",
      "Epoch 23, CIFAR-10 Batch 2:  Loss:     0.8071 Validation Accuracy: 0.594800\n",
      "Epoch 23, CIFAR-10 Batch 3:  Loss:     0.7108 Validation Accuracy: 0.585600\n",
      "Epoch 23, CIFAR-10 Batch 4:  Loss:     1.0362 Validation Accuracy: 0.596200\n",
      "Epoch 23, CIFAR-10 Batch 5:  Loss:     0.8922 Validation Accuracy: 0.579600\n",
      "Epoch 24, CIFAR-10 Batch 1:  Loss:     0.8827 Validation Accuracy: 0.597800\n",
      "Epoch 24, CIFAR-10 Batch 2:  Loss:     0.8150 Validation Accuracy: 0.595800\n",
      "Epoch 24, CIFAR-10 Batch 3:  Loss:     0.7198 Validation Accuracy: 0.574800\n",
      "Epoch 24, CIFAR-10 Batch 4:  Loss:     1.0338 Validation Accuracy: 0.594000\n",
      "Epoch 24, CIFAR-10 Batch 5:  Loss:     0.8061 Validation Accuracy: 0.594800\n",
      "Epoch 25, CIFAR-10 Batch 1:  Loss:     0.8890 Validation Accuracy: 0.596000\n",
      "Epoch 25, CIFAR-10 Batch 2:  Loss:     0.8390 Validation Accuracy: 0.600000\n",
      "Epoch 25, CIFAR-10 Batch 3:  Loss:     0.7566 Validation Accuracy: 0.590600\n",
      "Epoch 25, CIFAR-10 Batch 4:  Loss:     1.0099 Validation Accuracy: 0.599400\n",
      "Epoch 25, CIFAR-10 Batch 5:  Loss:     0.7806 Validation Accuracy: 0.595400\n",
      "Epoch 26, CIFAR-10 Batch 1:  Loss:     0.8410 Validation Accuracy: 0.591400\n",
      "Epoch 26, CIFAR-10 Batch 2:  Loss:     0.7943 Validation Accuracy: 0.591800\n",
      "Epoch 26, CIFAR-10 Batch 3:  Loss:     0.7130 Validation Accuracy: 0.598000\n",
      "Epoch 26, CIFAR-10 Batch 4:  Loss:     0.9684 Validation Accuracy: 0.600200\n",
      "Epoch 26, CIFAR-10 Batch 5:  Loss:     0.8561 Validation Accuracy: 0.588800\n",
      "Epoch 27, CIFAR-10 Batch 1:  Loss:     0.8460 Validation Accuracy: 0.604200\n",
      "Epoch 27, CIFAR-10 Batch 2:  Loss:     0.7730 Validation Accuracy: 0.610800\n",
      "Epoch 27, CIFAR-10 Batch 3:  Loss:     0.7428 Validation Accuracy: 0.595000\n",
      "Epoch 27, CIFAR-10 Batch 4:  Loss:     0.9536 Validation Accuracy: 0.602800\n",
      "Epoch 27, CIFAR-10 Batch 5:  Loss:     0.8396 Validation Accuracy: 0.590000\n",
      "Epoch 28, CIFAR-10 Batch 1:  Loss:     0.8737 Validation Accuracy: 0.601800\n",
      "Epoch 28, CIFAR-10 Batch 2:  Loss:     0.7592 Validation Accuracy: 0.593600\n",
      "Epoch 28, CIFAR-10 Batch 3:  Loss:     0.7089 Validation Accuracy: 0.596600\n",
      "Epoch 28, CIFAR-10 Batch 4:  Loss:     0.9869 Validation Accuracy: 0.600600\n",
      "Epoch 28, CIFAR-10 Batch 5:  Loss:     0.8150 Validation Accuracy: 0.596200\n",
      "Epoch 29, CIFAR-10 Batch 1:  Loss:     0.8898 Validation Accuracy: 0.606400\n",
      "Epoch 29, CIFAR-10 Batch 2:  Loss:     0.7542 Validation Accuracy: 0.609200\n",
      "Epoch 29, CIFAR-10 Batch 3:  Loss:     0.7305 Validation Accuracy: 0.585600\n",
      "Epoch 29, CIFAR-10 Batch 4:  Loss:     0.9494 Validation Accuracy: 0.599200\n",
      "Epoch 29, CIFAR-10 Batch 5:  Loss:     0.7592 Validation Accuracy: 0.599800\n",
      "Epoch 30, CIFAR-10 Batch 1:  Loss:     0.8065 Validation Accuracy: 0.602200\n",
      "Epoch 30, CIFAR-10 Batch 2:  Loss:     0.7594 Validation Accuracy: 0.604200\n",
      "Epoch 30, CIFAR-10 Batch 3:  Loss:     0.6762 Validation Accuracy: 0.584000\n",
      "Epoch 30, CIFAR-10 Batch 4:  Loss:     0.9332 Validation Accuracy: 0.602200\n",
      "Epoch 30, CIFAR-10 Batch 5:  Loss:     0.7290 Validation Accuracy: 0.607800\n",
      "Epoch 31, CIFAR-10 Batch 1:  Loss:     0.8005 Validation Accuracy: 0.611600\n",
      "Epoch 31, CIFAR-10 Batch 2:  Loss:     0.7396 Validation Accuracy: 0.603800\n",
      "Epoch 31, CIFAR-10 Batch 3:  Loss:     0.6653 Validation Accuracy: 0.602600\n",
      "Epoch 31, CIFAR-10 Batch 4:  Loss:     0.9374 Validation Accuracy: 0.615000\n",
      "Epoch 31, CIFAR-10 Batch 5:  Loss:     0.7477 Validation Accuracy: 0.605600\n",
      "Epoch 32, CIFAR-10 Batch 1:  Loss:     0.8545 Validation Accuracy: 0.613400\n",
      "Epoch 32, CIFAR-10 Batch 2:  Loss:     0.7245 Validation Accuracy: 0.605200\n",
      "Epoch 32, CIFAR-10 Batch 3:  Loss:     0.6630 Validation Accuracy: 0.602000\n",
      "Epoch 32, CIFAR-10 Batch 4:  Loss:     0.8743 Validation Accuracy: 0.608800\n",
      "Epoch 32, CIFAR-10 Batch 5:  Loss:     0.7311 Validation Accuracy: 0.601200\n",
      "Epoch 33, CIFAR-10 Batch 1:  Loss:     0.7828 Validation Accuracy: 0.610200\n",
      "Epoch 33, CIFAR-10 Batch 2:  Loss:     0.7337 Validation Accuracy: 0.612000\n",
      "Epoch 33, CIFAR-10 Batch 3:  Loss:     0.7052 Validation Accuracy: 0.603000\n",
      "Epoch 33, CIFAR-10 Batch 4:  Loss:     0.9365 Validation Accuracy: 0.603400\n",
      "Epoch 33, CIFAR-10 Batch 5:  Loss:     0.7066 Validation Accuracy: 0.589800\n",
      "Epoch 34, CIFAR-10 Batch 1:  Loss:     0.7694 Validation Accuracy: 0.608400\n",
      "Epoch 34, CIFAR-10 Batch 2:  Loss:     0.7483 Validation Accuracy: 0.613000\n",
      "Epoch 34, CIFAR-10 Batch 3:  Loss:     0.6536 Validation Accuracy: 0.596600\n",
      "Epoch 34, CIFAR-10 Batch 4:  Loss:     0.8905 Validation Accuracy: 0.602800\n",
      "Epoch 34, CIFAR-10 Batch 5:  Loss:     0.6780 Validation Accuracy: 0.599800\n",
      "Epoch 35, CIFAR-10 Batch 1:  Loss:     0.8480 Validation Accuracy: 0.604200\n",
      "Epoch 35, CIFAR-10 Batch 2:  Loss:     0.7074 Validation Accuracy: 0.602200\n",
      "Epoch 35, CIFAR-10 Batch 3:  Loss:     0.6856 Validation Accuracy: 0.602400\n",
      "Epoch 35, CIFAR-10 Batch 4:  Loss:     0.8824 Validation Accuracy: 0.593200\n",
      "Epoch 35, CIFAR-10 Batch 5:  Loss:     0.6602 Validation Accuracy: 0.606200\n",
      "Epoch 36, CIFAR-10 Batch 1:  Loss:     0.7742 Validation Accuracy: 0.599600\n",
      "Epoch 36, CIFAR-10 Batch 2:  Loss:     0.7130 Validation Accuracy: 0.610200\n",
      "Epoch 36, CIFAR-10 Batch 3:  Loss:     0.6367 Validation Accuracy: 0.597400\n",
      "Epoch 36, CIFAR-10 Batch 4:  Loss:     0.8658 Validation Accuracy: 0.607600\n",
      "Epoch 36, CIFAR-10 Batch 5:  Loss:     0.7073 Validation Accuracy: 0.609200\n",
      "Epoch 37, CIFAR-10 Batch 1:  Loss:     0.8351 Validation Accuracy: 0.610800\n",
      "Epoch 37, CIFAR-10 Batch 2:  Loss:     0.6883 Validation Accuracy: 0.606600\n",
      "Epoch 37, CIFAR-10 Batch 3:  Loss:     0.6345 Validation Accuracy: 0.595400\n",
      "Epoch 37, CIFAR-10 Batch 4:  Loss:     0.8771 Validation Accuracy: 0.602800\n",
      "Epoch 37, CIFAR-10 Batch 5:  Loss:     0.7302 Validation Accuracy: 0.590800\n",
      "Epoch 38, CIFAR-10 Batch 1:  Loss:     0.8318 Validation Accuracy: 0.609400\n",
      "Epoch 38, CIFAR-10 Batch 2:  Loss:     0.7174 Validation Accuracy: 0.614800\n",
      "Epoch 38, CIFAR-10 Batch 3:  Loss:     0.7048 Validation Accuracy: 0.598200\n",
      "Epoch 38, CIFAR-10 Batch 4:  Loss:     0.8303 Validation Accuracy: 0.613600\n",
      "Epoch 38, CIFAR-10 Batch 5:  Loss:     0.7136 Validation Accuracy: 0.600200\n",
      "Epoch 39, CIFAR-10 Batch 1:  Loss:     0.8100 Validation Accuracy: 0.608400\n",
      "Epoch 39, CIFAR-10 Batch 2:  Loss:     0.6792 Validation Accuracy: 0.612600\n",
      "Epoch 39, CIFAR-10 Batch 3:  Loss:     0.6113 Validation Accuracy: 0.611200\n",
      "Epoch 39, CIFAR-10 Batch 4:  Loss:     0.8577 Validation Accuracy: 0.610400\n",
      "Epoch 39, CIFAR-10 Batch 5:  Loss:     0.6564 Validation Accuracy: 0.611400\n",
      "Epoch 40, CIFAR-10 Batch 1:  Loss:     0.7613 Validation Accuracy: 0.614800\n",
      "Epoch 40, CIFAR-10 Batch 2:  Loss:     0.6668 Validation Accuracy: 0.614200\n",
      "Epoch 40, CIFAR-10 Batch 3:  Loss:     0.6075 Validation Accuracy: 0.613400\n",
      "Epoch 40, CIFAR-10 Batch 4:  Loss:     0.8024 Validation Accuracy: 0.614000\n",
      "Epoch 40, CIFAR-10 Batch 5:  Loss:     0.6872 Validation Accuracy: 0.610400\n",
      "Epoch 41, CIFAR-10 Batch 1:  Loss:     0.7175 Validation Accuracy: 0.619800\n",
      "Epoch 41, CIFAR-10 Batch 2:  Loss:     0.7128 Validation Accuracy: 0.615400\n",
      "Epoch 41, CIFAR-10 Batch 3:  Loss:     0.6123 Validation Accuracy: 0.604000\n",
      "Epoch 41, CIFAR-10 Batch 4:  Loss:     0.8542 Validation Accuracy: 0.617600\n",
      "Epoch 41, CIFAR-10 Batch 5:  Loss:     0.6891 Validation Accuracy: 0.616200\n",
      "Epoch 42, CIFAR-10 Batch 1:  Loss:     0.7327 Validation Accuracy: 0.620800\n",
      "Epoch 42, CIFAR-10 Batch 2:  Loss:     0.6821 Validation Accuracy: 0.615000\n",
      "Epoch 42, CIFAR-10 Batch 3:  Loss:     0.6502 Validation Accuracy: 0.599800\n",
      "Epoch 42, CIFAR-10 Batch 4:  Loss:     0.8203 Validation Accuracy: 0.616000\n",
      "Epoch 42, CIFAR-10 Batch 5:  Loss:     0.6357 Validation Accuracy: 0.616600\n",
      "Epoch 43, CIFAR-10 Batch 1:  Loss:     0.7643 Validation Accuracy: 0.614200\n",
      "Epoch 43, CIFAR-10 Batch 2:  Loss:     0.7255 Validation Accuracy: 0.610600\n",
      "Epoch 43, CIFAR-10 Batch 3:  Loss:     0.5707 Validation Accuracy: 0.615000\n",
      "Epoch 43, CIFAR-10 Batch 4:  Loss:     0.7609 Validation Accuracy: 0.609800\n"
     ]
    },
    {
     "name": "stdout",
     "output_type": "stream",
     "text": [
      "Epoch 43, CIFAR-10 Batch 5:  Loss:     0.6164 Validation Accuracy: 0.614200\n",
      "Epoch 44, CIFAR-10 Batch 1:  Loss:     0.7562 Validation Accuracy: 0.616200\n",
      "Epoch 44, CIFAR-10 Batch 2:  Loss:     0.6683 Validation Accuracy: 0.620400\n",
      "Epoch 44, CIFAR-10 Batch 3:  Loss:     0.5749 Validation Accuracy: 0.607800\n",
      "Epoch 44, CIFAR-10 Batch 4:  Loss:     0.8141 Validation Accuracy: 0.605800\n",
      "Epoch 44, CIFAR-10 Batch 5:  Loss:     0.6407 Validation Accuracy: 0.613200\n",
      "Epoch 45, CIFAR-10 Batch 1:  Loss:     0.7643 Validation Accuracy: 0.604600\n",
      "Epoch 45, CIFAR-10 Batch 2:  Loss:     0.7441 Validation Accuracy: 0.608800\n",
      "Epoch 45, CIFAR-10 Batch 3:  Loss:     0.6125 Validation Accuracy: 0.609800\n",
      "Epoch 45, CIFAR-10 Batch 4:  Loss:     0.7647 Validation Accuracy: 0.620800\n",
      "Epoch 45, CIFAR-10 Batch 5:  Loss:     0.6335 Validation Accuracy: 0.610400\n",
      "Epoch 46, CIFAR-10 Batch 1:  Loss:     0.7905 Validation Accuracy: 0.618400\n",
      "Epoch 46, CIFAR-10 Batch 2:  Loss:     0.6280 Validation Accuracy: 0.624000\n",
      "Epoch 46, CIFAR-10 Batch 3:  Loss:     0.5865 Validation Accuracy: 0.614000\n",
      "Epoch 46, CIFAR-10 Batch 4:  Loss:     0.7781 Validation Accuracy: 0.610800\n",
      "Epoch 46, CIFAR-10 Batch 5:  Loss:     0.6136 Validation Accuracy: 0.622000\n",
      "Epoch 47, CIFAR-10 Batch 1:  Loss:     0.7756 Validation Accuracy: 0.620200\n",
      "Epoch 47, CIFAR-10 Batch 2:  Loss:     0.6430 Validation Accuracy: 0.626200\n",
      "Epoch 47, CIFAR-10 Batch 3:  Loss:     0.5980 Validation Accuracy: 0.614600\n",
      "Epoch 47, CIFAR-10 Batch 4:  Loss:     0.7655 Validation Accuracy: 0.619400\n",
      "Epoch 47, CIFAR-10 Batch 5:  Loss:     0.6006 Validation Accuracy: 0.621200\n",
      "Epoch 48, CIFAR-10 Batch 1:  Loss:     0.7686 Validation Accuracy: 0.603200\n",
      "Epoch 48, CIFAR-10 Batch 2:  Loss:     0.6721 Validation Accuracy: 0.619400\n",
      "Epoch 48, CIFAR-10 Batch 3:  Loss:     0.5452 Validation Accuracy: 0.620800\n",
      "Epoch 48, CIFAR-10 Batch 4:  Loss:     0.7519 Validation Accuracy: 0.619800\n",
      "Epoch 48, CIFAR-10 Batch 5:  Loss:     0.6231 Validation Accuracy: 0.624200\n",
      "Epoch 49, CIFAR-10 Batch 1:  Loss:     0.7650 Validation Accuracy: 0.606200\n",
      "Epoch 49, CIFAR-10 Batch 2:  Loss:     0.6335 Validation Accuracy: 0.620800\n",
      "Epoch 49, CIFAR-10 Batch 3:  Loss:     0.6017 Validation Accuracy: 0.613400\n",
      "Epoch 49, CIFAR-10 Batch 4:  Loss:     0.7037 Validation Accuracy: 0.616400\n",
      "Epoch 49, CIFAR-10 Batch 5:  Loss:     0.5877 Validation Accuracy: 0.615800\n",
      "Epoch 50, CIFAR-10 Batch 1:  Loss:     0.7168 Validation Accuracy: 0.619600\n",
      "Epoch 50, CIFAR-10 Batch 2:  Loss:     0.6840 Validation Accuracy: 0.622000\n",
      "Epoch 50, CIFAR-10 Batch 3:  Loss:     0.6105 Validation Accuracy: 0.615400\n",
      "Epoch 50, CIFAR-10 Batch 4:  Loss:     0.7784 Validation Accuracy: 0.620000\n",
      "Epoch 50, CIFAR-10 Batch 5:  Loss:     0.5720 Validation Accuracy: 0.624200\n"
     ]
    }
   ],
   "source": [
    "\"\"\"\n",
    "DON'T MODIFY ANYTHING IN THIS CELL\n",
    "\"\"\"\n",
    "save_model_path = './image_classification'\n",
    "\n",
    "print('Training...')\n",
    "with tf.Session() as sess:\n",
    "    # Initializing the variables\n",
    "    sess.run(tf.global_variables_initializer())\n",
    "    \n",
    "    # Training cycle\n",
    "    for epoch in range(epochs):\n",
    "        # Loop over all batches\n",
    "        n_batches = 5\n",
    "        for batch_i in range(1, n_batches + 1):\n",
    "            for batch_features, batch_labels in helper.load_preprocess_training_batch(batch_i, batch_size):\n",
    "                train_neural_network(sess, optimizer, keep_probability, batch_features, batch_labels)\n",
    "            print('Epoch {:>2}, CIFAR-10 Batch {}:  '.format(epoch + 1, batch_i), end='')\n",
    "            print_stats(sess, batch_features, batch_labels, cost, accuracy)\n",
    "            \n",
    "    # Save Model\n",
    "    saver = tf.train.Saver()\n",
    "    save_path = saver.save(sess, save_model_path)"
   ]
  },
  {
   "cell_type": "markdown",
   "metadata": {},
   "source": [
    "# Checkpoint\n",
    "The model has been saved to disk.\n",
    "## Test Model\n",
    "Test your model against the test dataset.  This will be your final accuracy. You should have an accuracy greater than 50%. If you don't, keep tweaking the model architecture and parameters."
   ]
  },
  {
   "cell_type": "code",
   "execution_count": 1,
   "metadata": {},
   "outputs": [
    {
     "name": "stdout",
     "output_type": "stream",
     "text": [
      "INFO:tensorflow:Restoring parameters from ./image_classification\n",
      "Testing Accuracy: 0.630672770700637\n",
      "\n"
     ]
    },
    {
     "data": {
      "image/png": "[encoded data removed]",
      "text/plain": [
       "<matplotlib.figure.Figure at 0x2463d577e80>"
      ]
     },
     "metadata": {
      "image/png": {
       "height": 319,
       "width": 355
      }
     },
     "output_type": "display_data"
    }
   ],
   "source": [
    "\"\"\"\n",
    "DON'T MODIFY ANYTHING IN THIS CELL\n",
    "\"\"\"\n",
    "%matplotlib inline\n",
    "%config InlineBackend.figure_format = 'retina'\n",
    "\n",
    "import tensorflow as tf\n",
    "import pickle\n",
    "import helper\n",
    "import random\n",
    "\n",
    "# Set batch size if not already set\n",
    "try:\n",
    "    if batch_size:\n",
    "        pass\n",
    "except NameError:\n",
    "    batch_size = 64\n",
    "\n",
    "save_model_path = './image_classification'\n",
    "n_samples = 4\n",
    "top_n_predictions = 3\n",
    "\n",
    "def test_model():\n",
    "    \"\"\"\n",
    "    Test the saved model against the test dataset\n",
    "    \"\"\"\n",
    "\n",
    "    test_features, test_labels = pickle.load(open('preprocess_test.p', mode='rb'))\n",
    "    loaded_graph = tf.Graph()\n",
    "\n",
    "    with tf.Session(graph=loaded_graph) as sess:\n",
    "        # Load model\n",
    "        loader = tf.train.import_meta_graph(save_model_path + '.meta')\n",
    "        loader.restore(sess, save_model_path)\n",
    "\n",
    "        # Get Tensors from loaded model\n",
    "        loaded_x = loaded_graph.get_tensor_by_name('x:0')\n",
    "        loaded_y = loaded_graph.get_tensor_by_name('y:0')\n",
    "        loaded_keep_prob = loaded_graph.get_tensor_by_name('keep_prob:0')\n",
    "        loaded_logits = loaded_graph.get_tensor_by_name('logits:0')\n",
    "        loaded_acc = loaded_graph.get_tensor_by_name('accuracy:0')\n",
    "        \n",
    "        # Get accuracy in batches for memory limitations\n",
    "        test_batch_acc_total = 0\n",
    "        test_batch_count = 0\n",
    "        \n",
    "        for test_feature_batch, test_label_batch in helper.batch_features_labels(test_features, test_labels, batch_size):\n",
    "            test_batch_acc_total += sess.run(\n",
    "                loaded_acc,\n",
    "                feed_dict={loaded_x: test_feature_batch, loaded_y: test_label_batch, loaded_keep_prob: 1.0})\n",
    "            test_batch_count += 1\n",
    "\n",
    "        print('Testing Accuracy: {}\\n'.format(test_batch_acc_total/test_batch_count))\n",
    "\n",
    "        # Print Random Samples\n",
    "        random_test_features, random_test_labels = tuple(zip(*random.sample(list(zip(test_features, test_labels)), n_samples)))\n",
    "        random_test_predictions = sess.run(\n",
    "            tf.nn.top_k(tf.nn.softmax(loaded_logits), top_n_predictions),\n",
    "            feed_dict={loaded_x: random_test_features, loaded_y: random_test_labels, loaded_keep_prob: 1.0})\n",
    "        helper.display_image_predictions(random_test_features, random_test_labels, random_test_predictions)\n",
    "\n",
    "\n",
    "test_model()"
   ]
  },
  {
   "cell_type": "markdown",
   "metadata": {},
   "source": [
    "## Why 50-80% Accuracy?\n",
    "You might be wondering why you can't get an accuracy any higher. First things first, 50% isn't bad for a simple CNN.  Pure guessing would get you 10% accuracy. However, you might notice people are getting scores [well above 80%](http://rodrigob.github.io/are_we_there_yet/build/classification_datasets_results.html#43494641522d3130).  That's because we haven't taught you all there is to know about neural networks. We still need to cover a few more techniques.\n",
    "## Submitting This Project\n",
    "When submitting this project, make sure to run all the cells before saving the notebook.  Save the notebook file as \"dlnd_image_classification.ipynb\" and save it as a HTML file under \"File\" -> \"Download as\".  Include the \"helper.py\" and \"problem_unittests.py\" files in your submission."
   ]
  }
 ],
 "metadata": {
  "kernelspec": {
   "display_name": "Python 3",
   "language": "python",
   "name": "python3"
  },
  "language_info": {
   "codemirror_mode": {
    "name": "ipython",
    "version": 3
   },
   "file_extension": ".py",
   "mimetype": "text/x-python",
   "name": "python",
   "nbconvert_exporter": "python",
   "pygments_lexer": "ipython3",
   "version": "3.7.0"
  }
 },
 "nbformat": 4,
 "nbformat_minor": 1
}
